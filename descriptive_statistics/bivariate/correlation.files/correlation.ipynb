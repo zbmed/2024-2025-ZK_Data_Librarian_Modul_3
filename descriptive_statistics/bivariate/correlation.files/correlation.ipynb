{
 "cells": [
  {
   "cell_type": "code",
   "execution_count": 3,
   "metadata": {},
   "outputs": [
    {
     "name": "stderr",
     "output_type": "stream",
     "text": [
      "/var/folders/xc/0ys6f7w12cq2dq1xqlg9nmcm0000gn/T/ipykernel_70873/2157813245.py:14: FutureWarning: The frame.append method is deprecated and will be removed from pandas in a future version. Use pandas.concat instead.\n",
      "  dat = dat.append(pd.DataFrame(X, columns=[\"x\", \"y\", \"correlation\"]))\n",
      "/var/folders/xc/0ys6f7w12cq2dq1xqlg9nmcm0000gn/T/ipykernel_70873/2157813245.py:14: FutureWarning: The frame.append method is deprecated and will be removed from pandas in a future version. Use pandas.concat instead.\n",
      "  dat = dat.append(pd.DataFrame(X, columns=[\"x\", \"y\", \"correlation\"]))\n",
      "/var/folders/xc/0ys6f7w12cq2dq1xqlg9nmcm0000gn/T/ipykernel_70873/2157813245.py:14: FutureWarning: The frame.append method is deprecated and will be removed from pandas in a future version. Use pandas.concat instead.\n",
      "  dat = dat.append(pd.DataFrame(X, columns=[\"x\", \"y\", \"correlation\"]))\n",
      "/var/folders/xc/0ys6f7w12cq2dq1xqlg9nmcm0000gn/T/ipykernel_70873/2157813245.py:14: FutureWarning: The frame.append method is deprecated and will be removed from pandas in a future version. Use pandas.concat instead.\n",
      "  dat = dat.append(pd.DataFrame(X, columns=[\"x\", \"y\", \"correlation\"]))\n",
      "/var/folders/xc/0ys6f7w12cq2dq1xqlg9nmcm0000gn/T/ipykernel_70873/2157813245.py:14: FutureWarning: The frame.append method is deprecated and will be removed from pandas in a future version. Use pandas.concat instead.\n",
      "  dat = dat.append(pd.DataFrame(X, columns=[\"x\", \"y\", \"correlation\"]))\n",
      "/var/folders/xc/0ys6f7w12cq2dq1xqlg9nmcm0000gn/T/ipykernel_70873/2157813245.py:14: FutureWarning: The frame.append method is deprecated and will be removed from pandas in a future version. Use pandas.concat instead.\n",
      "  dat = dat.append(pd.DataFrame(X, columns=[\"x\", \"y\", \"correlation\"]))\n",
      "/var/folders/xc/0ys6f7w12cq2dq1xqlg9nmcm0000gn/T/ipykernel_70873/2157813245.py:14: FutureWarning: The frame.append method is deprecated and will be removed from pandas in a future version. Use pandas.concat instead.\n",
      "  dat = dat.append(pd.DataFrame(X, columns=[\"x\", \"y\", \"correlation\"]))\n",
      "/var/folders/xc/0ys6f7w12cq2dq1xqlg9nmcm0000gn/T/ipykernel_70873/2157813245.py:14: FutureWarning: The frame.append method is deprecated and will be removed from pandas in a future version. Use pandas.concat instead.\n",
      "  dat = dat.append(pd.DataFrame(X, columns=[\"x\", \"y\", \"correlation\"]))\n",
      "/var/folders/xc/0ys6f7w12cq2dq1xqlg9nmcm0000gn/T/ipykernel_70873/2157813245.py:14: FutureWarning: The frame.append method is deprecated and will be removed from pandas in a future version. Use pandas.concat instead.\n",
      "  dat = dat.append(pd.DataFrame(X, columns=[\"x\", \"y\", \"correlation\"]))\n"
     ]
    },
    {
     "data": {
      "text/plain": [
       "<seaborn.axisgrid.FacetGrid at 0x7f9ce0eada30>"
      ]
     },
     "execution_count": 3,
     "metadata": {},
     "output_type": "execute_result"
    }
   ],
   "source": [
    "import seaborn as sns\n",
    "import pandas as pd\n",
    "import numpy as np\n",
    "sns.set_theme()\n",
    "\n",
    "n = 1000\n",
    "cor = [-0.99, -0.7, -0.5, -0.2, 0, 0.2, 0.5, 0.7, 0.99]\n",
    "dat = pd.DataFrame()\n",
    "\n",
    "for c in cor:\n",
    "    covmat = np.array((1, c, c, 1)).reshape((2, 2))\n",
    "    X = np.random.multivariate_normal([0,0], covmat, size=n)\n",
    "    X = np.hstack((X, np.ones(n).reshape((n,1))*c))\n",
    "    dat = dat.append(pd.DataFrame(X, columns=[\"x\", \"y\", \"correlation\"]))\n",
    "    \n",
    "g = sns.FacetGrid(col=\"correlation\", data=dat, col_wrap=3)\n",
    "g.map(sns.scatterplot, \"x\", \"y\")\n",
    "g"
   ]
  },
  {
   "cell_type": "code",
   "execution_count": 38,
   "metadata": {},
   "outputs": [],
   "source": [
    "g.savefig('./correlation.png')"
   ]
  }
 ],
 "metadata": {
  "kernelspec": {
   "display_name": "Python 3 (ipykernel)",
   "language": "python",
   "name": "python3"
  },
  "language_info": {
   "codemirror_mode": {
    "name": "ipython",
    "version": 3
   },
   "file_extension": ".py",
   "mimetype": "text/x-python",
   "name": "python",
   "nbconvert_exporter": "python",
   "pygments_lexer": "ipython3",
   "version": "3.9.13"
  }
 },
 "nbformat": 4,
 "nbformat_minor": 2
}
