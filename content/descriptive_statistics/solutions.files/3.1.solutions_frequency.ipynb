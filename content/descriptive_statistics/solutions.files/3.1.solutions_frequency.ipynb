{
 "cells": [
  {
   "cell_type": "code",
   "execution_count": 14,
   "metadata": {},
   "outputs": [
    {
     "data": {
      "text/plain": [
       "Index(['Patron Type Definition', 'Total Checkouts', 'Total Renewals',\n",
       "       'Age Range', 'Home Library Definition', 'Circulation Active Month',\n",
       "       'Circulation Active Year', 'Notice Preference Definition',\n",
       "       'Provided Email Address', 'Year Patron Registered',\n",
       "       'Within San Francisco County'],\n",
       "      dtype='object')"
      ]
     },
     "execution_count": 14,
     "metadata": {},
     "output_type": "execute_result"
    }
   ],
   "source": [
    "import pandas as pd\n",
    "\n",
    "df = pd.read_csv(\"../data/Library_Usage.csv\",\n",
    "                 na_values=\"Null\",\n",
    "                 low_memory=False\n",
    "                )\n",
    "df.columns"
   ]
  },
  {
   "cell_type": "code",
   "execution_count": 15,
   "metadata": {},
   "outputs": [
    {
     "data": {
      "text/plain": [
       "2023    0.132654\n",
       "2022    0.115015\n",
       "2003    0.088927\n",
       "2021    0.072678\n",
       "2019    0.072502\n",
       "2020    0.065870\n",
       "2017    0.064515\n",
       "2018    0.062939\n",
       "2016    0.048117\n",
       "2015    0.043767\n",
       "2014    0.033917\n",
       "2013    0.028750\n",
       "2012    0.027600\n",
       "2011    0.026841\n",
       "2009    0.024580\n",
       "2010    0.024363\n",
       "2008    0.021705\n",
       "2007    0.014033\n",
       "2006    0.011302\n",
       "2005    0.010263\n",
       "2004    0.009661\n",
       "Name: Year Patron Registered, dtype: float64"
      ]
     },
     "execution_count": 15,
     "metadata": {},
     "output_type": "execute_result"
    }
   ],
   "source": [
    "df['Year Patron Registered'].value_counts(normalize=True)"
   ]
  },
  {
   "cell_type": "code",
   "execution_count": 16,
   "metadata": {},
   "outputs": [
    {
     "data": {
      "text/plain": [
       "25 to 34 years       0.211800\n",
       "35 to 44 years       0.190439\n",
       "10 to 19 years       0.150624\n",
       "45 to 54 years       0.110748\n",
       "0 to 9 years         0.073758\n",
       "65 to 74 years       0.072146\n",
       "20 to 24 years       0.060342\n",
       "75 years and over    0.046062\n",
       "55 to 59 years       0.043870\n",
       "60 to 64 years       0.040209\n",
       "Name: Age Range, dtype: float64"
      ]
     },
     "execution_count": 16,
     "metadata": {},
     "output_type": "execute_result"
    }
   ],
   "source": [
    "df['Age Range'].value_counts(normalize=True)"
   ]
  },
  {
   "cell_type": "code",
   "execution_count": 17,
   "metadata": {},
   "outputs": [
    {
     "data": {
      "text/plain": [
       "510"
      ]
     },
     "execution_count": 17,
     "metadata": {},
     "output_type": "execute_result"
    }
   ],
   "source": [
    "df['Age Range'].isna().sum()"
   ]
  },
  {
   "cell_type": "code",
   "execution_count": 18,
   "metadata": {},
   "outputs": [],
   "source": [
    "age_range_mode = df['Age Range'].mode()[0]\n",
    "df['Age Range'].fillna(age_range_mode, inplace=True)"
   ]
  },
  {
   "cell_type": "code",
   "execution_count": 19,
   "metadata": {},
   "outputs": [
    {
     "data": {
      "text/plain": [
       "0"
      ]
     },
     "execution_count": 19,
     "metadata": {},
     "output_type": "execute_result"
    }
   ],
   "source": [
    "df['Age Range'].isna().sum()"
   ]
  },
  {
   "cell_type": "code",
   "execution_count": 20,
   "metadata": {},
   "outputs": [
    {
     "data": {
      "text/plain": [
       "25 to 34 years       0.212693\n",
       "35 to 44 years       0.190224\n",
       "10 to 19 years       0.150453\n",
       "45 to 54 years       0.110623\n",
       "0 to 9 years         0.073675\n",
       "65 to 74 years       0.072065\n",
       "20 to 24 years       0.060274\n",
       "75 years and over    0.046010\n",
       "55 to 59 years       0.043821\n",
       "60 to 64 years       0.040164\n",
       "Name: Age Range, dtype: float64"
      ]
     },
     "execution_count": 20,
     "metadata": {},
     "output_type": "execute_result"
    }
   ],
   "source": [
    "df['Age Range'].value_counts(normalize=True)"
   ]
  },
  {
   "cell_type": "code",
   "execution_count": 21,
   "metadata": {},
   "outputs": [
    {
     "data": {
      "text/plain": [
       "3.873868313954441"
      ]
     },
     "execution_count": 21,
     "metadata": {},
     "output_type": "execute_result"
    }
   ],
   "source": [
    "df['Total Renewals'].agg(lambda x: x.std()/x.mean())"
   ]
  },
  {
   "cell_type": "code",
   "execution_count": 22,
   "metadata": {},
   "outputs": [
    {
     "data": {
      "text/plain": [
       "3.873868313954441"
      ]
     },
     "execution_count": 22,
     "metadata": {},
     "output_type": "execute_result"
    }
   ],
   "source": [
    "df['Total Renewals'].std()/df['Total Renewals'].mean()"
   ]
  },
  {
   "cell_type": "code",
   "execution_count": null,
   "metadata": {},
   "outputs": [],
   "source": []
  }
 ],
 "metadata": {
  "kernelspec": {
   "display_name": "Python 3 (ipykernel)",
   "language": "python",
   "name": "python3"
  },
  "language_info": {
   "codemirror_mode": {
    "name": "ipython",
    "version": 3
   },
   "file_extension": ".py",
   "mimetype": "text/x-python",
   "name": "python",
   "nbconvert_exporter": "python",
   "pygments_lexer": "ipython3",
   "version": "3.9.13"
  }
 },
 "nbformat": 4,
 "nbformat_minor": 4
}
